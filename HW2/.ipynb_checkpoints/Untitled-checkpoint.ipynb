{
 "cells": [
  {
   "cell_type": "code",
   "execution_count": 116,
   "metadata": {},
   "outputs": [],
   "source": [
    "\n",
    "import requests\n",
    "import re\n",
    "import pandas as pd\n",
    "from bs4 import BeautifulSoup as bs\n",
    "from pprint import pprint"
   ]
  },
  {
   "cell_type": "code",
   "execution_count": 117,
   "metadata": {},
   "outputs": [],
   "source": [
    "URL = 'https://moscow.hh.ru/search/vacancy'\n",
    "search_query = 'консультант'\n",
    "\n",
    "# Классы HH.ru\n",
    "\n",
    "data_div = 'vacancy-serp__results' # container\n",
    "vacancy_div = 'vacancy-serp-item' # vacancy\n",
    "\n",
    "name_class = 'resume-search-item__name' # vacancy_name\n",
    "company_class = 'vacancy-serp-item__meta-info' # company_name link in <a>\n",
    "\n",
    "# name_class = 'resume-search-item__name' # vacancy_name\n",
    "name_class = 'bloko-link HH-LinkModifier' # vacancy_name\n",
    "\n",
    "\n"
   ]
  },
  {
   "cell_type": "code",
   "execution_count": 171,
   "metadata": {},
   "outputs": [],
   "source": [
    "def _parser_vacancy_div(item):\n",
    "\n",
    "    vacancy_data = {}\n",
    "    \n",
    "#     pprint(item)\n",
    "    \n",
    "    # vacancy_name\n",
    "    vacancy_name = item.find('a', {'data-qa':\"vacancy-serp__vacancy-title\"}).text\n",
    "    \n",
    "    vacancy_data['vacancy_name'] = vacancy_name\n",
    "    \n",
    "    # vacancy_date\n",
    "    vacancy_date = item.find('span', {'class':\"vacancy-serp-item__publication-date\"})\n",
    "    if vacancy_date:\n",
    "        vacancy_date = \" \".join(vacancy_date.text.split())\n",
    "    else:\n",
    "        vacancy_date = None\n",
    "    \n",
    "    vacancy_data['date'] = vacancy_date\n",
    "    \n",
    "    # company_name\n",
    "    company_name = item.find('a', {'class':\"bloko-link\"}).text\n",
    "    \n",
    "    vacancy_data['company_name'] = company_name\n",
    "    \n",
    "    # city\n",
    "    city = item.find('span', {'data-qa':\"vacancy-serp__vacancy-address\"}).text\n",
    "    city = city.split(',')[0]\n",
    "    \n",
    "    vacancy_data['city'] = city\n",
    "    \n",
    "    vacancy_data['salary_min'], vacancy_data['salary_max'], vacancy_data['currency'] = get_salarys_and_currency(item)\n",
    "   \n",
    "    \n",
    "    return vacancy_data"
   ]
  },
  {
   "cell_type": "code",
   "execution_count": 177,
   "metadata": {},
   "outputs": [],
   "source": [
    "def get_salarys_and_currency(item):\n",
    "    salary = item.find('span', {'data-qa':\"vacancy-serp__vacancy-compensation\"})\n",
    "    if salary:\n",
    "        salary = salary.text.replace('\\xa0', '').replace('-', ' ').split()\n",
    "    #     salary = salary.text.strip()\n",
    "\n",
    "        if salary[0] == 'до':\n",
    "            salary_min = None\n",
    "            salary_max = int(salary[1])\n",
    "        elif salary[0] == 'от':\n",
    "            salary_min = int(salary[1])\n",
    "            salary_max = None\n",
    "        else:\n",
    "            salary_min = int(salary[0])\n",
    "            salary_max = int(salary[1])\n",
    "        try:\n",
    "            int(salary[-2])\n",
    "            currency = salary[-1]\n",
    "        except:\n",
    "            currency = f'{salary[-2]} {alary[-1]}'\n",
    "\n",
    "\n",
    "    else:\n",
    "        salary_min = None\n",
    "        salary_max = None\n",
    "        currency = None\n",
    "    return [salary_min, salary_max, currency,]"
   ]
  },
  {
   "cell_type": "code",
   "execution_count": 178,
   "metadata": {},
   "outputs": [],
   "source": [
    "data = []\n",
    "    \n",
    "params = {\n",
    "    'text': search_query, \\\n",
    "    'search_field': 'name', \\\n",
    "    'items_on_page': '100', \\\n",
    "    'page': ''\n",
    "}\n",
    "\n",
    "headers = {\n",
    "    'User-Agent': \\\n",
    "    'Mozilla/5.0 (Windows NT 10.0; Win64; x64) AppleWebKit/537.36 (KHTML, like Gecko) Chrome/83.0.4103.97 Safari/537.36'\n",
    "}\n",
    "\n",
    "link = 'https://hh.ru/search/vacancy'\n",
    "\n",
    "html = requests.get(link, params=params, headers=headers)\n",
    "\n",
    "# page count check\n",
    "\n",
    "if html.ok:\n",
    "    parsed_html = bs(html.text,'html.parser')\n",
    "\n",
    "    page_block = parsed_html.find('div', {'data-qa': 'pager-block'}) # page switching block\n",
    "    if not page_block:\n",
    "        last_page = '1'        \n",
    "    else:\n",
    "        last_page = int(page_block.find_all('a', {'class': 'HH-Pager-Control'})[-2].getText())  \n",
    "\n",
    "    for page in range(0, 1):        # last_page\n",
    "        params['page'] = page\n",
    "        html = requests.get(link, params=params, headers=headers)\n",
    "\n",
    "        if html.ok:\n",
    "            parsed_html = bs(html.text,'html.parser')\n",
    "\n",
    "            vacancy_items = parsed_html.find('div', {'data-qa': data_div}) \\\n",
    "                                        .find_all('div', {'class': vacancy_div})\n",
    "\n",
    "            for item in vacancy_items:\n",
    "                data.append(_parser_vacancy_div(item))\n"
   ]
  },
  {
   "cell_type": "code",
   "execution_count": 180,
   "metadata": {},
   "outputs": [
    {
     "name": "stdout",
     "output_type": "stream",
     "text": [
      "<div data-qa=\"pager-block\"><script data-name=\"HH/Pager\" data-params='\n",
      "                    {\n",
      "                        \"isAjax\": false,\n",
      "                        \"currentPage\": 0,\n",
      "                        \"pagesCount\": 6\n",
      "                    }\n",
      "                '></script><span class=\"bloko-button-group\"><span class=\"bloko-button bloko-button_pressed\" data-qa=\"pager-page\">1</span><span class=\"\"><a class=\"bloko-button HH-Pager-Control\" data-page=\"1\" data-qa=\"pager-page\" href=\"/search/vacancy?L_is_autosearch=false&amp;clusters=true&amp;enable_snippets=true&amp;items_on_page=100&amp;search_field=name&amp;text=%D0%BA%D0%BE%D0%BD%D1%81%D1%83%D0%BB%D1%8C%D1%82%D0%B0%D0%BD%D1%82&amp;page=1\" rel=\"nofollow\">2</a></span><span class=\"\"><a class=\"bloko-button HH-Pager-Control\" data-page=\"2\" data-qa=\"pager-page\" href=\"/search/vacancy?L_is_autosearch=false&amp;clusters=true&amp;enable_snippets=true&amp;items_on_page=100&amp;search_field=name&amp;text=%D0%BA%D0%BE%D0%BD%D1%81%D1%83%D0%BB%D1%8C%D1%82%D0%B0%D0%BD%D1%82&amp;page=2\" rel=\"nofollow\">3</a></span><span class=\"pager-item-not-in-short-range\"><a class=\"bloko-button HH-Pager-Control\" data-page=\"3\" data-qa=\"pager-page\" href=\"/search/vacancy?L_is_autosearch=false&amp;clusters=true&amp;enable_snippets=true&amp;items_on_page=100&amp;search_field=name&amp;text=%D0%BA%D0%BE%D0%BD%D1%81%D1%83%D0%BB%D1%8C%D1%82%D0%B0%D0%BD%D1%82&amp;page=3\" rel=\"nofollow\">4</a></span><span class=\"pager-item-not-in-short-range\"><a class=\"bloko-button HH-Pager-Control\" data-page=\"4\" data-qa=\"pager-page\" href=\"/search/vacancy?L_is_autosearch=false&amp;clusters=true&amp;enable_snippets=true&amp;items_on_page=100&amp;search_field=name&amp;text=%D0%BA%D0%BE%D0%BD%D1%81%D1%83%D0%BB%D1%8C%D1%82%D0%B0%D0%BD%D1%82&amp;page=4\" rel=\"nofollow\">5</a></span></span><span class=\"bloko-form-spacer\"></span><span class=\"pager-item-not-in-short-range\">\n",
      "            …\n",
      "            <span class=\"bloko-form-spacer\"></span><a class=\"bloko-button HH-Pager-Control\" data-page=\"19\" data-qa=\"pager-page\" href=\"/search/vacancy?L_is_autosearch=false&amp;clusters=true&amp;enable_snippets=true&amp;items_on_page=100&amp;search_field=name&amp;text=%D0%BA%D0%BE%D0%BD%D1%81%D1%83%D0%BB%D1%8C%D1%82%D0%B0%D0%BD%D1%82&amp;page=19\" rel=\"nofollow\">20</a><span class=\"bloko-form-spacer\"></span></span><a class=\"bloko-button HH-Pager-Controls-Next HH-Pager-Control\" data-page=\"1\" data-qa=\"pager-next\" href=\"/search/vacancy?L_is_autosearch=false&amp;clusters=true&amp;enable_snippets=true&amp;items_on_page=100&amp;search_field=name&amp;text=%D0%BA%D0%BE%D0%BD%D1%81%D1%83%D0%BB%D1%8C%D1%82%D0%B0%D0%BD%D1%82&amp;page=1\" rel=\"nofollow\">дальше</a><span class=\"bloko-form-spacer\"></span></div>\n"
     ]
    }
   ],
   "source": [
    "pprint(page_block)"
   ]
  },
  {
   "cell_type": "code",
   "execution_count": 170,
   "metadata": {},
   "outputs": [
    {
     "data": {
      "text/plain": [
       "'бел.руб.'"
      ]
     },
     "execution_count": 170,
     "metadata": {},
     "output_type": "execute_result"
    }
   ],
   "source": [
    "currency\n"
   ]
  },
  {
   "cell_type": "code",
   "execution_count": 152,
   "metadata": {},
   "outputs": [
    {
     "data": {
      "text/plain": [
       "<div class=\"vacancy-serp-item vacancy-serp-item_premium\" data-qa=\"vacancy-serp__vacancy vacancy-serp__vacancy_premium\"><script data-name=\"HH/VacancyResponseTrigger\" data-params=\"\"></script><div class=\"vacancy-serp-item__row vacancy-serp-item__row_labels\" xmlns:b=\"http://hhru.github.com/bloko/\" xmlns:hh=\"http://schema.reintegration.hh.ru/types\"></div><div class=\"vacancy-serp-item__row vacancy-serp-item__row_header\"><div class=\"vacancy-serp-item__info\"><span class=\"bloko-section-header-3 bloko-section-header-3_lite\"><span class=\"resume-search-item__name\"><span class=\"g-user-content\"><a class=\"bloko-link HH-LinkModifier\" data-position=\"3\" data-qa=\"vacancy-serp__vacancy-title\" data-requestid=\"15916173822180f77e8aee976578c609\" data-totalvacancies=\"14869\" href=\"https://cherepovets.hh.ru/vacancy/37316697?query=%D0%BA%D0%BE%D0%BD%D1%81%D1%83%D0%BB%D1%8C%D1%82%D0%B0%D0%BD%D1%82\" target=\"_blank\">Продавец-консультант ювелирных изделий (МЕГА Теплый Стан, МЕГА Химки)</a></span></span></span></div><div class=\"vacancy-serp-item__sidebar\"><span class=\"bloko-section-header-3 bloko-section-header-3_lite\" data-qa=\"vacancy-serp__vacancy-compensation\">до 100 000 руб.</span></div></div><div class=\"vacancy-serp-item__meta-info\"><a class=\"bloko-link bloko-link_secondary\" data-qa=\"vacancy-serp__vacancy-employer\" href=\"/employer/65468\">ООО ЭПЛ Даймонд</a> <a class=\"bloko-link\" href=\"https://feedback.hh.ru/article/details/id/5951\" target=\"_blank\"><span class=\"bloko-icon bloko-icon_done bloko-icon_initial-action\"><script data-name=\"HH/Tooltip/Hover\" data-params='\n",
       "                    {\n",
       "                        \"placement\": \"right\",\n",
       "                        \"html\": \"Компания прошла проверку на сайте\",\n",
       "                        \"layer\": \"overlay\"\n",
       "                    }\n",
       "                '></script></span></a></div><div class=\"vacancy-serp-item__meta-info\"><span class=\"vacancy-serp-item__meta-info\" data-qa=\"vacancy-serp__vacancy-address\">Москва</span></div><div class=\"vacancy-serp-item__row\"><div class=\"vacancy-serp-item__info\"><div class=\"g-user-content\"><div data-qa=\"vacancy-serp__vacancy_snippet_responsibility\">Консультирование клиентов. - Продажа ювелирных изделий с бриллиантами известного ювелирного бренда. - Поддержание порядка в ювелирном салоне.</div><div data-qa=\"vacancy-serp__vacancy_snippet_requirement\">Требуемый опыт работы: опыт работы в продажах в ритейле, в автомобильном бизнесе, в ресторанах, рассматриваем всех желающих. Главное желание и...</div></div></div><div class=\"vacancy-serp-item__sidebar\"><a data-qa=\"vacancy-serp__vacancy-employer-logo\" href=\"/employer/65468\"><img alt=\"ЭПЛ Даймонд\" class=\"vacancy-serp-item__logo\" loading=\"lazy\" src=\"https://hhcdn.ru/employer-logo/324472.png\"/></a></div></div><div class=\"vacancy-serp-item__row vacancy-serp-item__row_controls\"><div class=\"vacancy-serp-item__controls-item vacancy-serp-item__controls-item_response HH-VacancyResponseTrigger-Button\"><script data-name=\"HH/VacancyResponsePopup/VacancyResponsePopup\" data-params='\n",
       "                {\n",
       "                    \"isAutoOpen\": false,\n",
       "                    \"stayOnPage\": true,\n",
       "                    \"vacancyId\": \"37316697\",\n",
       "                    \"employerId\": \"65468\",\n",
       "                    \"isWithoutTest\": true,\n",
       "                    \"ignoreResponseCheck\": true,\n",
       "                    \n",
       "        \"trl\": {\n",
       "            \"responseTitle\": \"Резюме доставлено\",\n",
       "            \"responseStats\": \"Этот работодатель просматривает {0}% поступивших резюме\",\n",
       "            \"responseNoStats\": \"Узнать о статусе резюме можно на странице откликов\",\n",
       "            \"viewResponse\": \"Посмотреть отклик\",\n",
       "            \"viewResponses\": \"Смотреть отклики\",\n",
       "            \"errors\": {\n",
       "                \"unknown\":\"Произошла ошибка, попробуйте ещё раз\",\n",
       "                \"letter-required\":\"Пожалуйста, введите сопроводительное письмо\",\n",
       "                \"test-required\":\"Для отклика требуется ответить на вопросы теста\",\n",
       "                \"test-service-down\":\"Извините, сайт перегружен, пожалуйста, попробуйте позже\",\n",
       "                \"negotiations-limit-exceeded\":\"В течение 24 часов можно совершить не более 200 откликов. Вы исчерпали лимит откликов, попробуйте отправить отклик позднее.\",\n",
       "                \"too-long-letter\": \"Длина сопроводительного письма не может превышать  символов\"\n",
       "\n",
       "            }\n",
       "        }\n",
       "    \n",
       "                }\n",
       "            '></script><a class=\"bloko-link bloko-link_dimmed HH-VacancyResponsePopup-Link\" data-qa=\"vacancy-serp__vacancy_response\" href=\"/applicant/vacancy_response?vacancyId=37316697&amp;hhtmFrom=vacancy_search_result\">Откликнуться<script data-name=\"HH/Vacancy/SendResponseAttempt\" data-params='\n",
       "            {\n",
       "                \"vacancyId\": \"37316697\",\n",
       "                \"employerId\": \"65468\"\n",
       "            }\n",
       "        '></script></a></div><div class=\"vacancy-serp-item__controls-item vacancy-serp-item__controls-item_response HH-VacancyResponseTrigger-Container g-hidden\"><a class=\"search-resume-item-label\" data-qa=\"vacancy-serp__vacancy_responded\" href=\"/negotiations/gotopic?vacancy_id=37316697\" target=\"_blank\">Вы откликнулись<script data-name=\"HH/Vacancy/SendResponseAttempt\" data-params='\n",
       "            {\n",
       "                \"vacancyId\": \"37316697\",\n",
       "                \"employerId\": \"65468\"\n",
       "            }\n",
       "        '></script></a></div><span class=\"vacancy-serp-item__controls-item vacancy-serp-item__controls-item_pubdate\" data-qa=\"vacancy-serp__vacancy-date\"><span class=\"vacancy-serp-item__publication-date\">5 дней назад</span></span></div></div>"
      ]
     },
     "execution_count": 152,
     "metadata": {},
     "output_type": "execute_result"
    }
   ],
   "source": [
    "data[3]\n"
   ]
  },
  {
   "cell_type": "code",
   "execution_count": null,
   "metadata": {},
   "outputs": [],
   "source": []
  }
 ],
 "metadata": {
  "kernelspec": {
   "display_name": "Python 3",
   "language": "python",
   "name": "python3"
  },
  "language_info": {
   "codemirror_mode": {
    "name": "ipython",
    "version": 3
   },
   "file_extension": ".py",
   "mimetype": "text/x-python",
   "name": "python",
   "nbconvert_exporter": "python",
   "pygments_lexer": "ipython3",
   "version": "3.7.3"
  }
 },
 "nbformat": 4,
 "nbformat_minor": 2
}
