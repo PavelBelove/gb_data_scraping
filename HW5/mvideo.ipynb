{
 "cells": [
  {
   "cell_type": "code",
   "execution_count": 1,
   "metadata": {},
   "outputs": [],
   "source": [
    "from selenium import webdriver\n",
    "from pymongo import MongoClient\n",
    "from selenium.webdriver.chrome.options import Options\n",
    "from selenium.webdriver.support.ui import WebDriverWait\n",
    "from selenium.webdriver.support import expected_conditions as EC\n",
    "from selenium.webdriver.common.by import By\n",
    "from selenium.common import exceptions\n",
    "import time"
   ]
  },
  {
   "cell_type": "code",
   "execution_count": 2,
   "metadata": {},
   "outputs": [],
   "source": [
    "MONGO_URI = 'mongodb://172.17.0.2:27017/'\n",
    "MONGO_DATABASE = 'mvideo_db'\n",
    "\n",
    "client = MongoClient(MONGO_URI)\n",
    "mongo_base = client[MONGO_DATABASE]\n",
    "collection = mongo_base['bestsellers']"
   ]
  },
  {
   "cell_type": "code",
   "execution_count": 3,
   "metadata": {},
   "outputs": [],
   "source": [
    "chrome_options = Options()\n",
    "chrome_options.add_argument('start-maximized')\n",
    "\n",
    "\n",
    "driver = webdriver.Chrome(options=chrome_options)\n",
    "\n",
    "url = 'https://www.mvideo.ru'\n",
    "title_site = 'М.Видео'\n",
    "\n",
    "driver.get(url)\n",
    "\n",
    "# driver.title"
   ]
  },
  {
   "cell_type": "code",
   "execution_count": null,
   "metadata": {},
   "outputs": [
    {
     "name": "stdout",
     "output_type": "stream",
     "text": [
      "<selenium.webdriver.remote.webelement.WebElement (session=\"6fd93ebd587c384c5fa4aae1f8134dc3\", element=\"96ab0401-11af-40ea-b0da-bae222c40951\")>\n"
     ]
    }
   ],
   "source": [
    "time.sleep(5)\n",
    "assert title_site in driver.title\n",
    "\n",
    "try:\n",
    "    bestsellers = driver.find_element_by_xpath(\n",
    "        '//div[contains(text(),\"Хиты продаж\")]/ancestor::div[@data-init=\"gtm-push-products\"]'\n",
    "    )\n",
    "except exceptions.NoSuchElementException:\n",
    "    print('Bestsellers has not been found')\n",
    "# print(bestsellers)"
   ]
  },
  {
   "cell_type": "code",
   "execution_count": null,
   "metadata": {},
   "outputs": [],
   "source": []
  },
  {
   "cell_type": "code",
   "execution_count": null,
   "metadata": {},
   "outputs": [],
   "source": [
    "time.sleep(15)\n",
    "while True:\n",
    "    try:\n",
    "        next_button = bestsellers.find_element_by_class_name('next-btn')\n",
    "        next_button.click()\n",
    "        time.sleep(1)\n",
    "    except exceptions.TimeoutException:\n",
    "        print('time out')\n",
    "        break"
   ]
  },
  {
   "cell_type": "code",
   "execution_count": null,
   "metadata": {},
   "outputs": [],
   "source": [
    "goods = bestsellers.find_elements_by_css_selector('li.gallery-list-item')\n",
    "goods"
   ]
  },
  {
   "cell_type": "code",
   "execution_count": null,
   "metadata": {},
   "outputs": [],
   "source": [
    "\n",
    "goods = bestsellers.find_elements_by_css_selector('li.gallery-list-item')\n",
    "\n",
    "\n",
    "item = {}\n",
    "for good in goods:    \n",
    "    item['link'] = good.find_element_by_css_selector(\n",
    "        'a.sel-product-tile-title') \\\n",
    "        .get_attribute('href')\n",
    "    \n",
    "    item['title'] = good.find_element_by_css_selector(\n",
    "        'a.sel-product-tile-title') \\\n",
    "        .get_attribute('innerHTML')\n",
    "\n",
    "    item['price'] = float(\n",
    "        good.find_element_by_css_selector(\n",
    "            'div.c-pdp-price__current').get_attribute('innerHTML').replace(\n",
    "                '&nbsp;', '').replace('¤', ''))\n",
    "\n",
    "    item['image_link'] = good.find_element_by_css_selector(\n",
    "        'img[class=\"lazy product-tile-picture__image\"]') \\\n",
    "        .get_attribute('src')\n",
    "    print(item)\n",
    "\n",
    "    collection.update_one({'link': item['link']}, {'$set': item},\n",
    "                          upsert=True)\n",
    "driver.quit()\n"
   ]
  },
  {
   "cell_type": "code",
   "execution_count": null,
   "metadata": {},
   "outputs": [],
   "source": []
  },
  {
   "cell_type": "code",
   "execution_count": null,
   "metadata": {},
   "outputs": [],
   "source": []
  }
 ],
 "metadata": {
  "kernelspec": {
   "display_name": "Python 3",
   "language": "python",
   "name": "python3"
  },
  "language_info": {
   "codemirror_mode": {
    "name": "ipython",
    "version": 3
   },
   "file_extension": ".py",
   "mimetype": "text/x-python",
   "name": "python",
   "nbconvert_exporter": "python",
   "pygments_lexer": "ipython3",
   "version": "3.7.3"
  }
 },
 "nbformat": 4,
 "nbformat_minor": 2
}
