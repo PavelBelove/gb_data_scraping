{
 "cells": [
  {
   "cell_type": "code",
   "execution_count": 1,
   "metadata": {},
   "outputs": [],
   "source": [
    "from selenium import webdriver\n",
    "from selenium.webdriver.common.keys import Keys\n",
    "from selenium.webdriver.common.by import By\n",
    "from selenium.webdriver.support.ui import WebDriverWait\n",
    "from selenium.webdriver.support import expected_conditions as EC\n",
    "from selenium.common import exceptions\n",
    "from pymongo import MongoClient\n",
    "from selenium.webdriver.firefox.options import Options"
   ]
  },
  {
   "cell_type": "code",
   "execution_count": 2,
   "metadata": {},
   "outputs": [],
   "source": [
    "def _parse_element(element, css_selector):\n",
    "    result = WebDriverWait(element, 15).until(\n",
    "        EC.presence_of_element_located((By.CSS_SELECTOR, css_selector))).text\n",
    "    return result"
   ]
  },
  {
   "cell_type": "code",
   "execution_count": 3,
   "metadata": {},
   "outputs": [],
   "source": [
    "def parse_email(element):\n",
    "    item = {}\n",
    "\n",
    "    item['from_name'] = _parse_element(\n",
    "        element, 'span[class~=\"ns-view-message-head-sender-name\"]')\n",
    "    item['from_email'] = _parse_element(\n",
    "        element, 'span[class~=\"mail-Message-Sender-Email\"]')\n",
    "    item['date'] = _parse_element(element,\n",
    "                                  'div[class~=\"ns-view-message-head-date\"]')\n",
    "    item['subject'] = _parse_element(\n",
    "        element, 'div[class~=\"mail-Message-Toolbar-Subject\"]')\n",
    "    item['text_messege'] = _parse_element(\n",
    "        element, 'div.mail-Message-Body-Content')\n",
    "\n",
    "    return item"
   ]
  },
  {
   "cell_type": "code",
   "execution_count": 4,
   "metadata": {},
   "outputs": [],
   "source": [
    "MONGO_URI = 'mongodb://172.17.0.2:27017/'\n",
    "MONGO_DATABASE = 'mail_db'\n",
    "\n",
    "client = MongoClient(MONGO_URI)\n",
    "mongo_base = client[MONGO_DATABASE]\n",
    "collection = mongo_base['messeges']"
   ]
  },
  {
   "cell_type": "markdown",
   "metadata": {},
   "source": [
    "Получение драйвера"
   ]
  },
  {
   "cell_type": "code",
   "execution_count": 5,
   "metadata": {},
   "outputs": [],
   "source": [
    "chrome_options = Options()\n",
    "chrome_options.add_argument(\"--headless\")\n",
    "\n",
    "driver = webdriver.Chrome()\n",
    "# url = 'https://mail.ru/'\n",
    "# driver.get(url)\n",
    "\n",
    "url = 'https://yandex.ru/'\n",
    "title_site = 'Яндекс'\n",
    "\n",
    "driver.get(url)"
   ]
  },
  {
   "cell_type": "markdown",
   "metadata": {},
   "source": [
    "Переход к форме авторизации"
   ]
  },
  {
   "cell_type": "code",
   "execution_count": 6,
   "metadata": {},
   "outputs": [],
   "source": [
    "assert title_site in driver.title\n",
    "\n",
    "try:\n",
    "\n",
    "    mail_button = WebDriverWait(driver, 20).until(\n",
    "        EC.presence_of_element_located((By.CLASS_NAME, \\\n",
    "                'desk-notif-card__login-enter-expanded')))\n",
    "\n",
    "#     mail_button = driver.find_element_by_css_selector(\n",
    "#         'a[class=\"button desk-notif-card__login-enter-expanded\"]'\n",
    "#     )\n",
    "except exceptions.NoSuchElementException:\n",
    "    print('Mail button not found')\n",
    "\n",
    "mail_button.click()\n",
    "\n",
    "driver.switch_to.window(driver.window_handles[-1])\n",
    "\n",
    "# driver.title\n"
   ]
  },
  {
   "cell_type": "markdown",
   "metadata": {},
   "source": []
  },
  {
   "cell_type": "code",
   "execution_count": null,
   "metadata": {},
   "outputs": [],
   "source": []
  },
  {
   "cell_type": "markdown",
   "metadata": {},
   "source": [
    "Авторизация"
   ]
  },
  {
   "cell_type": "code",
   "execution_count": 7,
   "metadata": {
    "scrolled": true
   },
   "outputs": [],
   "source": [
    "\n",
    "# # print(driver.window_handles)\n",
    "\n",
    "# driver.current_url\n",
    "# # if 'Авторизация' in driver.title:\n",
    "# print(driver.current_url)\n",
    "# # login_form = driver.find_element_by_class_name('passp-auth-screen')\n",
    "# # print(login_form)\n",
    "\n",
    "login_form = WebDriverWait(driver, 30).until(\n",
    "        EC.presence_of_element_located((By.CLASS_NAME, 'passp-page-overlay')))\n",
    "\n",
    "\n",
    "field_login = WebDriverWait(driver, 30).until(\n",
    "    EC.presence_of_element_located((By.NAME, 'login')))\n",
    "field_login.send_keys('landingorder')\n",
    "field_login.send_keys(Keys.ENTER)\n",
    "field_passwd = WebDriverWait(driver, 30).until(\n",
    "    EC.presence_of_element_located((By.ID, 'passp-field-passwd')))\n",
    "field_passwd.send_keys('38Popug@ev')\n",
    "field_passwd.send_keys(Keys.ENTER)\n",
    "\n"
   ]
  },
  {
   "cell_type": "markdown",
   "metadata": {},
   "source": [
    "Открываем письмо"
   ]
  },
  {
   "cell_type": "code",
   "execution_count": 8,
   "metadata": {},
   "outputs": [],
   "source": [
    "first_messege = WebDriverWait(driver, 30).until(\n",
    "    EC.presence_of_element_located(\n",
    "        (By.CLASS_NAME, 'mail-MessageSnippet-FromText')\n",
    "    )\n",
    ")\n",
    "\n",
    "first_messege.click()\n"
   ]
  },
  {
   "cell_type": "code",
   "execution_count": 9,
   "metadata": {},
   "outputs": [],
   "source": [
    "driver.find_elements_by_class_name('mail-MessageSnippet-FromText')[1].click()\n",
    "\n",
    "\n",
    "\n"
   ]
  },
  {
   "cell_type": "code",
   "execution_count": null,
   "metadata": {},
   "outputs": [],
   "source": []
  },
  {
   "cell_type": "code",
   "execution_count": null,
   "metadata": {},
   "outputs": [],
   "source": [
    "while True:\n",
    "    try:\n",
    "        collection.insert_one(parse_email(driver))\n",
    "\n",
    "        button_next = WebDriverWait(driver, 30).until(\n",
    "            EC.presence_of_element_located((By.CLASS_NAME, 'mail-Message-PrevNext_next')))\n",
    "        button_next.click()\n",
    "    except exceptions.TimeoutException:\n",
    "        print('E-mails are over')\n",
    "        break\n",
    "\n",
    "driver.quit()"
   ]
  },
  {
   "cell_type": "code",
   "execution_count": null,
   "metadata": {},
   "outputs": [],
   "source": []
  },
  {
   "cell_type": "code",
   "execution_count": null,
   "metadata": {},
   "outputs": [],
   "source": []
  }
 ],
 "metadata": {
  "kernelspec": {
   "display_name": "Python 3",
   "language": "python",
   "name": "python3"
  },
  "language_info": {
   "codemirror_mode": {
    "name": "ipython",
    "version": 3
   },
   "file_extension": ".py",
   "mimetype": "text/x-python",
   "name": "python",
   "nbconvert_exporter": "python",
   "pygments_lexer": "ipython3",
   "version": "3.7.3"
  }
 },
 "nbformat": 4,
 "nbformat_minor": 2
}
